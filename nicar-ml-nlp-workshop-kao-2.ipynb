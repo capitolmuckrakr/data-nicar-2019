{
 "cells": [
  {
   "cell_type": "markdown",
   "metadata": {},
   "source": [
    "# NICAR Workshop: Machine Learning and NLP #2\n",
    "\n",
    "By Jeff Kao, ProPublica (jeff.kao[at]propublica.org)"
   ]
  },
  {
   "cell_type": "code",
   "execution_count": 1,
   "metadata": {},
   "outputs": [],
   "source": [
    "import pandas as pd\n",
    "import numpy as np\n",
    "import matplotlib.pyplot as plt\n",
    "%matplotlib inline\n",
    "\n",
    "import seaborn as sns\n",
    "\n",
    "pd.options.display.max_columns = 50\n",
    "pd.options.display.max_colwidth = 500"
   ]
  },
  {
   "cell_type": "markdown",
   "metadata": {},
   "source": [
    "## Before you start: \n",
    "### Download and unzip the data\n",
    "Save the twitter data to `./data`.\n",
    "* web page: https://about.twitter.com/en_us/values/elections-integrity.html#data\n",
    "* account data: https://storage.googleapis.com/twitter-election-integrity/hashed/ira/ira_users_csv_hashed.zip\n",
    "* tweet data: https://storage.googleapis.com/twitter-election-integrity/hashed/ira/ira_tweets_csv_hashed.zip\n",
    "\n",
    "Uncomment the below if you need to unzip the files."
   ]
  },
  {
   "cell_type": "code",
   "execution_count": 6,
   "metadata": {},
   "outputs": [],
   "source": [
    "# !ls ./data/"
   ]
  },
  {
   "cell_type": "code",
   "execution_count": 7,
   "metadata": {},
   "outputs": [],
   "source": [
    "# !unzip ./data/ira_tweets_csv_hashed.zip -d ./data/"
   ]
  },
  {
   "cell_type": "code",
   "execution_count": 8,
   "metadata": {},
   "outputs": [],
   "source": [
    "# !unzip ./data/ira_users_csv_hashed.zip -d ./data/"
   ]
  },
  {
   "cell_type": "markdown",
   "metadata": {},
   "source": [
    "### Load the Data into memory"
   ]
  },
  {
   "cell_type": "markdown",
   "metadata": {},
   "source": [
    "Let's load the `.csv` of user accounts into pandas."
   ]
  },
  {
   "cell_type": "code",
   "execution_count": 9,
   "metadata": {},
   "outputs": [
    {
     "name": "stdout",
     "output_type": "stream",
     "text": [
      "CPU times: user 63.6 ms, sys: 15.3 ms, total: 78.9 ms\n",
      "Wall time: 85.3 ms\n"
     ]
    }
   ],
   "source": [
    "%%time\n",
    "df_users = pd.read_csv('./data/ira_users_csv_hashed.csv')"
   ]
  },
  {
   "cell_type": "markdown",
   "metadata": {},
   "source": [
    "Let's load the `.csv` of tweets into pandas (might take a couple of minutes)."
   ]
  },
  {
   "cell_type": "code",
   "execution_count": 11,
   "metadata": {},
   "outputs": [
    {
     "name": "stderr",
     "output_type": "stream",
     "text": [
      "<string>:2: DtypeWarning: Columns (30) have mixed types. Specify dtype option on import or set low_memory=False.\n"
     ]
    },
    {
     "name": "stdout",
     "output_type": "stream",
     "text": [
      "CPU times: user 1min 24s, sys: 13.1 s, total: 1min 37s\n",
      "Wall time: 1min 38s\n"
     ]
    }
   ],
   "source": [
    "%%time\n",
    "df_all = pd.read_csv('./data/ira_tweets_csv_hashed.csv')"
   ]
  },
  {
   "cell_type": "markdown",
   "metadata": {},
   "source": [
    "## Re-introduction\n",
    "\n",
    "Wow, part 1 contained a lot of dataviz and ML! We're finally on our way to our ultimate goal. Clustering documents using NLP.\n",
    "\n",
    "Let's reset for part 2.\n",
    "\n",
    "### What did we just do?\n",
    "\n",
    "In part 1, we used some off-the-shelf algorithms to reduce high-dimensional data and cluster it. We also visualized that process to gain an intuitive, high-level understanding of how these algorithms work.\n",
    "\n",
    "### How is that useful?\n",
    "\n",
    "Breaking down lots of text using NLP involves doing the same things that we did in part 1. The only difference is how the data is represented.\n",
    "\n",
    "Instead of features in dimensions that represent pixel darkness or petal length, we need to obtain features that represent words as numbers. Once we can do that, we can visualize and cluster words-as-numbers in the same way!\n",
    "\n",
    "### What if I didn't understand [insert idea here] in part 1?\n",
    "\n",
    "It's a lot to go through at once, but a high-level understanding is enough if you have working code. As we play with the data, visualize it, and dig deeper into the algorithms (and possibly the math behind it), we'll get a better understanding of what's happening.\n",
    "\n",
    "Again, I'll be posting these notebooks on [propublica's github](https://github.com/propublica) for your future use & play."
   ]
  },
  {
   "cell_type": "code",
   "execution_count": 14,
   "metadata": {},
   "outputs": [
    {
     "name": "stdout",
     "output_type": "stream",
     "text": [
      "(3608, 10)\n"
     ]
    },
    {
     "data": {
      "text/html": [
       "<div>\n",
       "<style scoped>\n",
       "    .dataframe tbody tr th:only-of-type {\n",
       "        vertical-align: middle;\n",
       "    }\n",
       "\n",
       "    .dataframe tbody tr th {\n",
       "        vertical-align: top;\n",
       "    }\n",
       "\n",
       "    .dataframe thead th {\n",
       "        text-align: right;\n",
       "    }\n",
       "</style>\n",
       "<table border=\"1\" class=\"dataframe\">\n",
       "  <thead>\n",
       "    <tr style=\"text-align: right;\">\n",
       "      <th></th>\n",
       "      <th>userid</th>\n",
       "      <th>user_display_name</th>\n",
       "      <th>user_screen_name</th>\n",
       "      <th>user_reported_location</th>\n",
       "      <th>user_profile_description</th>\n",
       "      <th>user_profile_url</th>\n",
       "      <th>follower_count</th>\n",
       "      <th>following_count</th>\n",
       "      <th>account_creation_date</th>\n",
       "      <th>account_language</th>\n",
       "    </tr>\n",
       "  </thead>\n",
       "  <tbody>\n",
       "    <tr>\n",
       "      <th>861</th>\n",
       "      <td>a9e00e3879c730a0ce856c4dc02af44570a4a5dc98d2687807a0cc595a0830b0</td>\n",
       "      <td>a9e00e3879c730a0ce856c4dc02af44570a4a5dc98d2687807a0cc595a0830b0</td>\n",
       "      <td>a9e00e3879c730a0ce856c4dc02af44570a4a5dc98d2687807a0cc595a0830b0</td>\n",
       "      <td>Одесса</td>\n",
       "      <td>Справжня дівчина</td>\n",
       "      <td>NaN</td>\n",
       "      <td>1052</td>\n",
       "      <td>96</td>\n",
       "      <td>2017-04-13</td>\n",
       "      <td>ru</td>\n",
       "    </tr>\n",
       "    <tr>\n",
       "      <th>428</th>\n",
       "      <td>a3384adbe62ff6c2bb08186ef33488cbd51be8ec4cc1167fc175114babd13ec0</td>\n",
       "      <td>a3384adbe62ff6c2bb08186ef33488cbd51be8ec4cc1167fc175114babd13ec0</td>\n",
       "      <td>a3384adbe62ff6c2bb08186ef33488cbd51be8ec4cc1167fc175114babd13ec0</td>\n",
       "      <td>NaN</td>\n",
       "      <td>NaN</td>\n",
       "      <td>NaN</td>\n",
       "      <td>15</td>\n",
       "      <td>238</td>\n",
       "      <td>2017-08-02</td>\n",
       "      <td>ru</td>\n",
       "    </tr>\n",
       "    <tr>\n",
       "      <th>1619</th>\n",
       "      <td>31c9ba13526333a8d6f30140075901ede051e3071d57e7ab357c3a855798d6f0</td>\n",
       "      <td>31c9ba13526333a8d6f30140075901ede051e3071d57e7ab357c3a855798d6f0</td>\n",
       "      <td>31c9ba13526333a8d6f30140075901ede051e3071d57e7ab357c3a855798d6f0</td>\n",
       "      <td>US</td>\n",
       "      <td>The person who says it cannot be done should not interrupt the person who is doing it.</td>\n",
       "      <td>NaN</td>\n",
       "      <td>92</td>\n",
       "      <td>46</td>\n",
       "      <td>2013-08-19</td>\n",
       "      <td>en</td>\n",
       "    </tr>\n",
       "    <tr>\n",
       "      <th>2325</th>\n",
       "      <td>947bda400668c820e19964532fa3f16a26c5bcf0b794a19891901931b3995b82</td>\n",
       "      <td>947bda400668c820e19964532fa3f16a26c5bcf0b794a19891901931b3995b82</td>\n",
       "      <td>947bda400668c820e19964532fa3f16a26c5bcf0b794a19891901931b3995b82</td>\n",
       "      <td>NaN</td>\n",
       "      <td>не умею нормально одеваться, шутить, общаться, дружить, танцевать, вести отношения....</td>\n",
       "      <td>NaN</td>\n",
       "      <td>82</td>\n",
       "      <td>148</td>\n",
       "      <td>2014-04-29</td>\n",
       "      <td>ru</td>\n",
       "    </tr>\n",
       "    <tr>\n",
       "      <th>2870</th>\n",
       "      <td>6e15a45ba0a9df86391ac29aba3c611a04b2eb7110b53831153577cc02a2a1d5</td>\n",
       "      <td>6e15a45ba0a9df86391ac29aba3c611a04b2eb7110b53831153577cc02a2a1d5</td>\n",
       "      <td>6e15a45ba0a9df86391ac29aba3c611a04b2eb7110b53831153577cc02a2a1d5</td>\n",
       "      <td>USA</td>\n",
       "      <td>NaN</td>\n",
       "      <td>NaN</td>\n",
       "      <td>111</td>\n",
       "      <td>129</td>\n",
       "      <td>2013-08-24</td>\n",
       "      <td>en</td>\n",
       "    </tr>\n",
       "  </tbody>\n",
       "</table>\n",
       "</div>"
      ],
      "text/plain": [
       "                                                                userid  \\\n",
       "861   a9e00e3879c730a0ce856c4dc02af44570a4a5dc98d2687807a0cc595a0830b0   \n",
       "428   a3384adbe62ff6c2bb08186ef33488cbd51be8ec4cc1167fc175114babd13ec0   \n",
       "1619  31c9ba13526333a8d6f30140075901ede051e3071d57e7ab357c3a855798d6f0   \n",
       "2325  947bda400668c820e19964532fa3f16a26c5bcf0b794a19891901931b3995b82   \n",
       "2870  6e15a45ba0a9df86391ac29aba3c611a04b2eb7110b53831153577cc02a2a1d5   \n",
       "\n",
       "                                                     user_display_name  \\\n",
       "861   a9e00e3879c730a0ce856c4dc02af44570a4a5dc98d2687807a0cc595a0830b0   \n",
       "428   a3384adbe62ff6c2bb08186ef33488cbd51be8ec4cc1167fc175114babd13ec0   \n",
       "1619  31c9ba13526333a8d6f30140075901ede051e3071d57e7ab357c3a855798d6f0   \n",
       "2325  947bda400668c820e19964532fa3f16a26c5bcf0b794a19891901931b3995b82   \n",
       "2870  6e15a45ba0a9df86391ac29aba3c611a04b2eb7110b53831153577cc02a2a1d5   \n",
       "\n",
       "                                                      user_screen_name  \\\n",
       "861   a9e00e3879c730a0ce856c4dc02af44570a4a5dc98d2687807a0cc595a0830b0   \n",
       "428   a3384adbe62ff6c2bb08186ef33488cbd51be8ec4cc1167fc175114babd13ec0   \n",
       "1619  31c9ba13526333a8d6f30140075901ede051e3071d57e7ab357c3a855798d6f0   \n",
       "2325  947bda400668c820e19964532fa3f16a26c5bcf0b794a19891901931b3995b82   \n",
       "2870  6e15a45ba0a9df86391ac29aba3c611a04b2eb7110b53831153577cc02a2a1d5   \n",
       "\n",
       "     user_reported_location  \\\n",
       "861                  Одесса   \n",
       "428                     NaN   \n",
       "1619                     US   \n",
       "2325                    NaN   \n",
       "2870                    USA   \n",
       "\n",
       "                                                                    user_profile_description  \\\n",
       "861                                                                         Справжня дівчина   \n",
       "428                                                                                      NaN   \n",
       "1619  The person who says it cannot be done should not interrupt the person who is doing it.   \n",
       "2325  не умею нормально одеваться, шутить, общаться, дружить, танцевать, вести отношения....   \n",
       "2870                                                                                     NaN   \n",
       "\n",
       "     user_profile_url  follower_count  following_count account_creation_date  \\\n",
       "861               NaN            1052               96            2017-04-13   \n",
       "428               NaN              15              238            2017-08-02   \n",
       "1619              NaN              92               46            2013-08-19   \n",
       "2325              NaN              82              148            2014-04-29   \n",
       "2870              NaN             111              129            2013-08-24   \n",
       "\n",
       "     account_language  \n",
       "861                ru  \n",
       "428                ru  \n",
       "1619               en  \n",
       "2325               ru  \n",
       "2870               en  "
      ]
     },
     "execution_count": 14,
     "metadata": {},
     "output_type": "execute_result"
    }
   ],
   "source": [
    "print(df_users.shape)\n",
    "df_users.sample(5)"
   ]
  },
  {
   "cell_type": "code",
   "execution_count": 13,
   "metadata": {},
   "outputs": [
    {
     "name": "stdout",
     "output_type": "stream",
     "text": [
      "(8768633, 31)\n"
     ]
    },
    {
     "data": {
      "text/html": [
       "<div>\n",
       "<style scoped>\n",
       "    .dataframe tbody tr th:only-of-type {\n",
       "        vertical-align: middle;\n",
       "    }\n",
       "\n",
       "    .dataframe tbody tr th {\n",
       "        vertical-align: top;\n",
       "    }\n",
       "\n",
       "    .dataframe thead th {\n",
       "        text-align: right;\n",
       "    }\n",
       "</style>\n",
       "<table border=\"1\" class=\"dataframe\">\n",
       "  <thead>\n",
       "    <tr style=\"text-align: right;\">\n",
       "      <th></th>\n",
       "      <th>tweetid</th>\n",
       "      <th>userid</th>\n",
       "      <th>user_display_name</th>\n",
       "      <th>user_screen_name</th>\n",
       "      <th>user_reported_location</th>\n",
       "      <th>user_profile_description</th>\n",
       "      <th>user_profile_url</th>\n",
       "      <th>follower_count</th>\n",
       "      <th>following_count</th>\n",
       "      <th>account_creation_date</th>\n",
       "      <th>account_language</th>\n",
       "      <th>tweet_language</th>\n",
       "      <th>tweet_text</th>\n",
       "      <th>tweet_time</th>\n",
       "      <th>tweet_client_name</th>\n",
       "      <th>in_reply_to_tweetid</th>\n",
       "      <th>in_reply_to_userid</th>\n",
       "      <th>quoted_tweet_tweetid</th>\n",
       "      <th>is_retweet</th>\n",
       "      <th>retweet_userid</th>\n",
       "      <th>retweet_tweetid</th>\n",
       "      <th>latitude</th>\n",
       "      <th>longitude</th>\n",
       "      <th>quote_count</th>\n",
       "      <th>reply_count</th>\n",
       "      <th>like_count</th>\n",
       "      <th>retweet_count</th>\n",
       "      <th>hashtags</th>\n",
       "      <th>urls</th>\n",
       "      <th>user_mentions</th>\n",
       "      <th>poll_choices</th>\n",
       "    </tr>\n",
       "  </thead>\n",
       "  <tbody>\n",
       "    <tr>\n",
       "      <th>4656730</th>\n",
       "      <td>503867937607131136</td>\n",
       "      <td>c25d4558c0ad71b5d7ff6a2a34deaa833cd651d2a35338229f168e06b3d83138</td>\n",
       "      <td>c25d4558c0ad71b5d7ff6a2a34deaa833cd651d2a35338229f168e06b3d83138</td>\n",
       "      <td>c25d4558c0ad71b5d7ff6a2a34deaa833cd651d2a35338229f168e06b3d83138</td>\n",
       "      <td>Moscow</td>\n",
       "      <td>Географ , Пробки от пивных бутылок #</td>\n",
       "      <td>NaN</td>\n",
       "      <td>64</td>\n",
       "      <td>24</td>\n",
       "      <td>2014-03-24</td>\n",
       "      <td>en</td>\n",
       "      <td>ru</td>\n",
       "      <td>Этому можно верить! Порошенко и Обаму будут публично судить!  http://t.co/SjyiEkpxOs</td>\n",
       "      <td>2014-08-25 11:34</td>\n",
       "      <td>generationπ</td>\n",
       "      <td>NaN</td>\n",
       "      <td>NaN</td>\n",
       "      <td>NaN</td>\n",
       "      <td>False</td>\n",
       "      <td>NaN</td>\n",
       "      <td>NaN</td>\n",
       "      <td>absent</td>\n",
       "      <td>absent</td>\n",
       "      <td>0.0</td>\n",
       "      <td>0.0</td>\n",
       "      <td>0.0</td>\n",
       "      <td>0.0</td>\n",
       "      <td>NaN</td>\n",
       "      <td>[http://nobretract.livejournal.com/4718]</td>\n",
       "      <td>NaN</td>\n",
       "      <td>NaN</td>\n",
       "    </tr>\n",
       "    <tr>\n",
       "      <th>8144958</th>\n",
       "      <td>654386367615631361</td>\n",
       "      <td>fa68e55511df85c409d0ed94c9a9e786f6fcf792584ca7a4d51bb3cb9037c5ca</td>\n",
       "      <td>fa68e55511df85c409d0ed94c9a9e786f6fcf792584ca7a4d51bb3cb9037c5ca</td>\n",
       "      <td>fa68e55511df85c409d0ed94c9a9e786f6fcf792584ca7a4d51bb3cb9037c5ca</td>\n",
       "      <td>Калининград</td>\n",
       "      <td>NaN</td>\n",
       "      <td>NaN</td>\n",
       "      <td>260</td>\n",
       "      <td>447</td>\n",
       "      <td>2014-03-09</td>\n",
       "      <td>en</td>\n",
       "      <td>ru</td>\n",
       "      <td>RT @MaxDementiev: Собака всегда похожа на своего хозяина http://t.co/WBRzGwLaj2</td>\n",
       "      <td>2015-10-14 20:00</td>\n",
       "      <td>bronislav</td>\n",
       "      <td>NaN</td>\n",
       "      <td>NaN</td>\n",
       "      <td>NaN</td>\n",
       "      <td>True</td>\n",
       "      <td>2808833544</td>\n",
       "      <td>6.543712e+17</td>\n",
       "      <td>absent</td>\n",
       "      <td>absent</td>\n",
       "      <td>0.0</td>\n",
       "      <td>0.0</td>\n",
       "      <td>0.0</td>\n",
       "      <td>0.0</td>\n",
       "      <td>[]</td>\n",
       "      <td>[]</td>\n",
       "      <td>[2808833544]</td>\n",
       "      <td>NaN</td>\n",
       "    </tr>\n",
       "    <tr>\n",
       "      <th>2608634</th>\n",
       "      <td>606151556707307520</td>\n",
       "      <td>2d149ea064e6e264ca270a23989575da66a537e8682a6208ecd61fb16985348a</td>\n",
       "      <td>2d149ea064e6e264ca270a23989575da66a537e8682a6208ecd61fb16985348a</td>\n",
       "      <td>2d149ea064e6e264ca270a23989575da66a537e8682a6208ecd61fb16985348a</td>\n",
       "      <td>Воронеж</td>\n",
       "      <td>воронежский жеребец</td>\n",
       "      <td>NaN</td>\n",
       "      <td>128</td>\n",
       "      <td>397</td>\n",
       "      <td>2014-03-17</td>\n",
       "      <td>en</td>\n",
       "      <td>ru</td>\n",
       "      <td>@zubovnik гнойный пидор</td>\n",
       "      <td>2015-06-03 17:32</td>\n",
       "      <td>TweetDeck</td>\n",
       "      <td>6.061388e+17</td>\n",
       "      <td>2589513234</td>\n",
       "      <td>NaN</td>\n",
       "      <td>False</td>\n",
       "      <td>NaN</td>\n",
       "      <td>NaN</td>\n",
       "      <td>absent</td>\n",
       "      <td>absent</td>\n",
       "      <td>0.0</td>\n",
       "      <td>0.0</td>\n",
       "      <td>0.0</td>\n",
       "      <td>0.0</td>\n",
       "      <td>[]</td>\n",
       "      <td>[]</td>\n",
       "      <td>[2589513234]</td>\n",
       "      <td>NaN</td>\n",
       "    </tr>\n",
       "    <tr>\n",
       "      <th>3570233</th>\n",
       "      <td>866407868043579392</td>\n",
       "      <td>2570631118</td>\n",
       "      <td>Politweecs</td>\n",
       "      <td>Politweecs</td>\n",
       "      <td>United States</td>\n",
       "      <td>Tweets and politics</td>\n",
       "      <td>NaN</td>\n",
       "      <td>36094</td>\n",
       "      <td>20288</td>\n",
       "      <td>2014-05-29</td>\n",
       "      <td>en</td>\n",
       "      <td>en</td>\n",
       "      <td>Trump told the Russians that firing Comey took the pressure off. This is what he should have said instead. https://t.co/etxF3lZ80o</td>\n",
       "      <td>2017-05-21 21:38</td>\n",
       "      <td>Twitter Web Client</td>\n",
       "      <td>NaN</td>\n",
       "      <td>NaN</td>\n",
       "      <td>NaN</td>\n",
       "      <td>False</td>\n",
       "      <td>NaN</td>\n",
       "      <td>NaN</td>\n",
       "      <td>absent</td>\n",
       "      <td>absent</td>\n",
       "      <td>0.0</td>\n",
       "      <td>0.0</td>\n",
       "      <td>0.0</td>\n",
       "      <td>0.0</td>\n",
       "      <td>[]</td>\n",
       "      <td>[https://goo.gl/0BT4CR]</td>\n",
       "      <td>NaN</td>\n",
       "      <td>NaN</td>\n",
       "    </tr>\n",
       "    <tr>\n",
       "      <th>5036756</th>\n",
       "      <td>799117714396708865</td>\n",
       "      <td>105597dbbc198c8cd7eac455cb3afe072345ea2aa3d391d77bd03bfeb610707e</td>\n",
       "      <td>105597dbbc198c8cd7eac455cb3afe072345ea2aa3d391d77bd03bfeb610707e</td>\n",
       "      <td>105597dbbc198c8cd7eac455cb3afe072345ea2aa3d391d77bd03bfeb610707e</td>\n",
       "      <td>Москва, Россия</td>\n",
       "      <td>Человек, а это в наше время редкость!</td>\n",
       "      <td>NaN</td>\n",
       "      <td>2898</td>\n",
       "      <td>423</td>\n",
       "      <td>2014-05-04</td>\n",
       "      <td>ru</td>\n",
       "      <td>ru</td>\n",
       "      <td>RT @Batya_69: Молодые чиновники научились брать деньги из бюджета. Отлично! Но управлять они не способны. Жалкое подобие своих отцов. Мдассс</td>\n",
       "      <td>2016-11-17 05:11</td>\n",
       "      <td>Twitter Web Client</td>\n",
       "      <td>NaN</td>\n",
       "      <td>NaN</td>\n",
       "      <td>NaN</td>\n",
       "      <td>True</td>\n",
       "      <td>372370703</td>\n",
       "      <td>7.991121e+17</td>\n",
       "      <td>absent</td>\n",
       "      <td>absent</td>\n",
       "      <td>0.0</td>\n",
       "      <td>0.0</td>\n",
       "      <td>0.0</td>\n",
       "      <td>0.0</td>\n",
       "      <td>[]</td>\n",
       "      <td>[]</td>\n",
       "      <td>[372370703]</td>\n",
       "      <td>NaN</td>\n",
       "    </tr>\n",
       "  </tbody>\n",
       "</table>\n",
       "</div>"
      ],
      "text/plain": [
       "                    tweetid  \\\n",
       "4656730  503867937607131136   \n",
       "8144958  654386367615631361   \n",
       "2608634  606151556707307520   \n",
       "3570233  866407868043579392   \n",
       "5036756  799117714396708865   \n",
       "\n",
       "                                                                   userid  \\\n",
       "4656730  c25d4558c0ad71b5d7ff6a2a34deaa833cd651d2a35338229f168e06b3d83138   \n",
       "8144958  fa68e55511df85c409d0ed94c9a9e786f6fcf792584ca7a4d51bb3cb9037c5ca   \n",
       "2608634  2d149ea064e6e264ca270a23989575da66a537e8682a6208ecd61fb16985348a   \n",
       "3570233                                                        2570631118   \n",
       "5036756  105597dbbc198c8cd7eac455cb3afe072345ea2aa3d391d77bd03bfeb610707e   \n",
       "\n",
       "                                                        user_display_name  \\\n",
       "4656730  c25d4558c0ad71b5d7ff6a2a34deaa833cd651d2a35338229f168e06b3d83138   \n",
       "8144958  fa68e55511df85c409d0ed94c9a9e786f6fcf792584ca7a4d51bb3cb9037c5ca   \n",
       "2608634  2d149ea064e6e264ca270a23989575da66a537e8682a6208ecd61fb16985348a   \n",
       "3570233                                                        Politweecs   \n",
       "5036756  105597dbbc198c8cd7eac455cb3afe072345ea2aa3d391d77bd03bfeb610707e   \n",
       "\n",
       "                                                         user_screen_name  \\\n",
       "4656730  c25d4558c0ad71b5d7ff6a2a34deaa833cd651d2a35338229f168e06b3d83138   \n",
       "8144958  fa68e55511df85c409d0ed94c9a9e786f6fcf792584ca7a4d51bb3cb9037c5ca   \n",
       "2608634  2d149ea064e6e264ca270a23989575da66a537e8682a6208ecd61fb16985348a   \n",
       "3570233                                                        Politweecs   \n",
       "5036756  105597dbbc198c8cd7eac455cb3afe072345ea2aa3d391d77bd03bfeb610707e   \n",
       "\n",
       "        user_reported_location               user_profile_description  \\\n",
       "4656730                 Moscow   Географ , Пробки от пивных бутылок #   \n",
       "8144958            Калининград                                    NaN   \n",
       "2608634                Воронеж                    воронежский жеребец   \n",
       "3570233          United States                    Tweets and politics   \n",
       "5036756         Москва, Россия  Человек, а это в наше время редкость!   \n",
       "\n",
       "        user_profile_url  follower_count  following_count  \\\n",
       "4656730              NaN              64               24   \n",
       "8144958              NaN             260              447   \n",
       "2608634              NaN             128              397   \n",
       "3570233              NaN           36094            20288   \n",
       "5036756              NaN            2898              423   \n",
       "\n",
       "        account_creation_date account_language tweet_language  \\\n",
       "4656730            2014-03-24               en             ru   \n",
       "8144958            2014-03-09               en             ru   \n",
       "2608634            2014-03-17               en             ru   \n",
       "3570233            2014-05-29               en             en   \n",
       "5036756            2014-05-04               ru             ru   \n",
       "\n",
       "                                                                                                                                           tweet_text  \\\n",
       "4656730                                                          Этому можно верить! Порошенко и Обаму будут публично судить!  http://t.co/SjyiEkpxOs   \n",
       "8144958                                                               RT @MaxDementiev: Собака всегда похожа на своего хозяина http://t.co/WBRzGwLaj2   \n",
       "2608634                                                                                                                       @zubovnik гнойный пидор   \n",
       "3570233            Trump told the Russians that firing Comey took the pressure off. This is what he should have said instead. https://t.co/etxF3lZ80o   \n",
       "5036756  RT @Batya_69: Молодые чиновники научились брать деньги из бюджета. Отлично! Но управлять они не способны. Жалкое подобие своих отцов. Мдассс   \n",
       "\n",
       "               tweet_time   tweet_client_name  in_reply_to_tweetid  \\\n",
       "4656730  2014-08-25 11:34         generationπ                  NaN   \n",
       "8144958  2015-10-14 20:00           bronislav                  NaN   \n",
       "2608634  2015-06-03 17:32           TweetDeck         6.061388e+17   \n",
       "3570233  2017-05-21 21:38  Twitter Web Client                  NaN   \n",
       "5036756  2016-11-17 05:11  Twitter Web Client                  NaN   \n",
       "\n",
       "        in_reply_to_userid  quoted_tweet_tweetid  is_retweet retweet_userid  \\\n",
       "4656730                NaN                   NaN       False            NaN   \n",
       "8144958                NaN                   NaN        True     2808833544   \n",
       "2608634         2589513234                   NaN       False            NaN   \n",
       "3570233                NaN                   NaN       False            NaN   \n",
       "5036756                NaN                   NaN        True      372370703   \n",
       "\n",
       "         retweet_tweetid latitude longitude  quote_count  reply_count  \\\n",
       "4656730              NaN   absent    absent          0.0          0.0   \n",
       "8144958     6.543712e+17   absent    absent          0.0          0.0   \n",
       "2608634              NaN   absent    absent          0.0          0.0   \n",
       "3570233              NaN   absent    absent          0.0          0.0   \n",
       "5036756     7.991121e+17   absent    absent          0.0          0.0   \n",
       "\n",
       "         like_count  retweet_count hashtags  \\\n",
       "4656730         0.0            0.0      NaN   \n",
       "8144958         0.0            0.0       []   \n",
       "2608634         0.0            0.0       []   \n",
       "3570233         0.0            0.0       []   \n",
       "5036756         0.0            0.0       []   \n",
       "\n",
       "                                             urls user_mentions poll_choices  \n",
       "4656730  [http://nobretract.livejournal.com/4718]           NaN          NaN  \n",
       "8144958                                        []  [2808833544]          NaN  \n",
       "2608634                                        []  [2589513234]          NaN  \n",
       "3570233                   [https://goo.gl/0BT4CR]           NaN          NaN  \n",
       "5036756                                        []   [372370703]          NaN  "
      ]
     },
     "execution_count": 13,
     "metadata": {},
     "output_type": "execute_result"
    }
   ],
   "source": [
    "print(df_all.shape)\n",
    "df_all.sample(5)"
   ]
  },
  {
   "cell_type": "markdown",
   "metadata": {},
   "source": [
    "Hmm, they're not all in english -- what language are people tweeting in?"
   ]
  },
  {
   "cell_type": "code",
   "execution_count": 22,
   "metadata": {},
   "outputs": [
    {
     "data": {
      "text/plain": [
       "en       2382\n",
       "ru       1039\n",
       "de        111\n",
       "ar         28\n",
       "en-gb      15\n",
       "fr         11\n",
       "es          8\n",
       "it          7\n",
       "zh-cn       3\n",
       "uk          2\n",
       "Name: account_language, dtype: int64"
      ]
     },
     "execution_count": 22,
     "metadata": {},
     "output_type": "execute_result"
    }
   ],
   "source": [
    "df_users['account_language'].value_counts()[:10]"
   ]
  },
  {
   "cell_type": "code",
   "execution_count": 23,
   "metadata": {},
   "outputs": [
    {
     "data": {
      "text/plain": [
       "ru     4853185\n",
       "en     2997181\n",
       "und     229392\n",
       "de       98460\n",
       "uk       82237\n",
       "bg       54690\n",
       "ar       37241\n",
       "it       20136\n",
       "fr       12241\n",
       "es       11922\n",
       "Name: tweet_language, dtype: int64"
      ]
     },
     "execution_count": 23,
     "metadata": {},
     "output_type": "execute_result"
    }
   ],
   "source": [
    "df_all['tweet_language'].value_counts()[:10]"
   ]
  },
  {
   "cell_type": "markdown",
   "metadata": {},
   "source": [
    "Okay, that's a lot of users and a lot of tweets. Let's cut down on the tweets that we analyze by looking at english users and their english tweets, only."
   ]
  },
  {
   "cell_type": "code",
   "execution_count": 20,
   "metadata": {},
   "outputs": [
    {
     "name": "stdout",
     "output_type": "stream",
     "text": [
      "CPU times: user 2.34 s, sys: 539 ms, total: 2.88 s\n",
      "Wall time: 2.88 s\n"
     ]
    }
   ],
   "source": [
    "%%time\n",
    "df_users_eng = df_users[df_users['account_language'] == 'en']\n",
    "df_eng = df_all[df_all['tweet_language'] == 'en']\n",
    "df_eng = df_eng[df_eng['userid'].isin(df_users_eng['userid'])]"
   ]
  },
  {
   "cell_type": "markdown",
   "metadata": {},
   "source": [
    "There are also a lot of columns we don't need. Keep only the tweet-related columns we care about."
   ]
  },
  {
   "cell_type": "code",
   "execution_count": 21,
   "metadata": {},
   "outputs": [],
   "source": [
    "df_eng_red_cols = df_eng[['tweetid', 'userid',\n",
    "       'tweet_text', 'tweet_time', 'tweet_client_name', \n",
    "       'in_reply_to_tweetid', 'in_reply_to_userid', 'quoted_tweet_tweetid', \n",
    "       'quote_count', 'reply_count', 'like_count', 'retweet_count',\n",
    "       'is_retweet', 'retweet_userid', 'retweet_tweetid']]"
   ]
  },
  {
   "cell_type": "markdown",
   "metadata": {},
   "source": [
    "It's easier to analyze documents when they're longer. Since tweets are so short, let's aggregate all of a user's tweets."
   ]
  },
  {
   "cell_type": "code",
   "execution_count": 24,
   "metadata": {},
   "outputs": [],
   "source": [
    "df_eng_by_user = \\\n",
    "(df_eng_red_cols[['userid','tweet_text']]\n",
    " .groupby('userid')\n",
    " .agg({'userid': 'first', 'tweet_text': lambda x: ' '.join(x)})\n",
    " .set_index('userid'))"
   ]
  },
  {
   "cell_type": "markdown",
   "metadata": {},
   "source": [
    "Take a peek at what these users are saying."
   ]
  },
  {
   "cell_type": "code",
   "execution_count": 28,
   "metadata": {},
   "outputs": [
    {
     "data": {
      "text/html": [
       "<div>\n",
       "<style scoped>\n",
       "    .dataframe tbody tr th:only-of-type {\n",
       "        vertical-align: middle;\n",
       "    }\n",
       "\n",
       "    .dataframe tbody tr th {\n",
       "        vertical-align: top;\n",
       "    }\n",
       "\n",
       "    .dataframe thead th {\n",
       "        text-align: right;\n",
       "    }\n",
       "</style>\n",
       "<table border=\"1\" class=\"dataframe\">\n",
       "  <thead>\n",
       "    <tr style=\"text-align: right;\">\n",
       "      <th></th>\n",
       "      <th>tweet_text</th>\n",
       "    </tr>\n",
       "    <tr>\n",
       "      <th>userid</th>\n",
       "      <th></th>\n",
       "    </tr>\n",
       "  </thead>\n",
       "  <tbody>\n",
       "    <tr>\n",
       "      <th>394e51abc80b7ef91dc7d2aeef3a201fc5e5393c97baceeba54f8357ad3e2970</th>\n",
       "      <td>RT @DeptofDefense: The @USArmyOldGuard honors fallen heroes by placing flags @ArlingtonNatl gravesites before #MemorialDay: https://t.co/aa… Every day is a #CarbDay! RT @StationCDRKelly: #MondayMotivation The colors of sunrise! https://t.co/CBCjwkJD1O RT @jnalsman: Tomorrow is #CarbDay!  Carb now stands for carbohydrates in the beer that will be consumed tomorrow at @IMS.  It's gonna be a… RT @Astro2fish: Alright, imagine the clouds are really thunder-clouds, then this looks like a wicked-ba...</td>\n",
       "    </tr>\n",
       "    <tr>\n",
       "      <th>0bb9ff165ab81a5526043b6f5798e6dac30e663c0d1d0d9dd1a081cddf03278f</th>\n",
       "      <td>RT @ArcadaTheatre: Last night I threw a private party for @JennyMcCarthy from her husband @DonnieWahlberg! Pink Floyd, Prime Rib &amp;amp; more htt…</td>\n",
       "    </tr>\n",
       "    <tr>\n",
       "      <th>ae023844ecbeea50820a894fcf356f99c8631dc2ae6d5652f2de9e36e771ac31</th>\n",
       "      <td>RT @TicketmasterUK: Don't miss out! @Coldplay's 4th @wembleystadium date on 15 June is on sale tomorrow 10:00!&amp;gt; https://t.co/drv2CB8cb9 htt… #CNNDebate #VegasGOPDebate We waste too much money on #Syria and haven’t received anything in return RT @229217263f92580803d1f911d843306459e118a276d279464e5a7da268529598: Like Hillary is not gonna continue raping our economy! She totally supports his every decission #DEMDebate #DamnDebate RT @4ee74271f2d71ead3db0ce797a13ad93464796687f8fa35d9ddbb4692d...</td>\n",
       "    </tr>\n",
       "    <tr>\n",
       "      <th>618228e727579659187d37d818202a621bcef41d0e07cd99896c114d8c313970</th>\n",
       "      <td>RT @Novikovquisolge: http://t.co/nQqwTgObhZ Janay Rice @Petrovaenachsil Ukraine ex-minister injured as terror trial protesters clash with riot police TagScanner 5.1.645 Portable http://t.co/8gEBDIU904 texet t 920hd android http://t.co/btE8WVTJJh @ahezkoemokrd Take a tour of NYC on a giant circle made of skateboards. RT @8845477e608f36deabb38df17c0f2e04994bbf5ae149ff74633631decad09997: http://t.co/Vul9lcfko9 Twerking for Jesus @bbf27de8c9f37ffd3a416b6f44e5c5a8ba22896a40593540823657123aeb4f00 ...</td>\n",
       "    </tr>\n",
       "    <tr>\n",
       "      <th>c6dbc7c7851158af6632107003f9d731731b55d9ef85c9dbd8ab88d69fdb4ac9</th>\n",
       "      <td>#IAmOnFire The two greatest FEAR busters are knowledge and action - Unknown #quotes RT @KevinGreen89: A terrible plant explosion happened at the #ColumbianChemicals Co in Centerville, LA RT @marthensasser: #ColumbianChemicals  The information about plant explosion had been received from the witnesses http://t.co/bYSJd0Rc7c</td>\n",
       "    </tr>\n",
       "  </tbody>\n",
       "</table>\n",
       "</div>"
      ],
      "text/plain": [
       "                                                                                                                                                                                                                                                                                                                                                                                                                                                                                                                                                                           tweet_text\n",
       "userid                                                                                                                                                                                                                                                                                                                                                                                                                                                                                                                                                                               \n",
       "394e51abc80b7ef91dc7d2aeef3a201fc5e5393c97baceeba54f8357ad3e2970  RT @DeptofDefense: The @USArmyOldGuard honors fallen heroes by placing flags @ArlingtonNatl gravesites before #MemorialDay: https://t.co/aa… Every day is a #CarbDay! RT @StationCDRKelly: #MondayMotivation The colors of sunrise! https://t.co/CBCjwkJD1O RT @jnalsman: Tomorrow is #CarbDay!  Carb now stands for carbohydrates in the beer that will be consumed tomorrow at @IMS.  It's gonna be a… RT @Astro2fish: Alright, imagine the clouds are really thunder-clouds, then this looks like a wicked-ba...\n",
       "0bb9ff165ab81a5526043b6f5798e6dac30e663c0d1d0d9dd1a081cddf03278f                                                                                                                                                                                                                                                                                                                                                                     RT @ArcadaTheatre: Last night I threw a private party for @JennyMcCarthy from her husband @DonnieWahlberg! Pink Floyd, Prime Rib &amp; more htt…\n",
       "ae023844ecbeea50820a894fcf356f99c8631dc2ae6d5652f2de9e36e771ac31  RT @TicketmasterUK: Don't miss out! @Coldplay's 4th @wembleystadium date on 15 June is on sale tomorrow 10:00!&gt; https://t.co/drv2CB8cb9 htt… #CNNDebate #VegasGOPDebate We waste too much money on #Syria and haven’t received anything in return RT @229217263f92580803d1f911d843306459e118a276d279464e5a7da268529598: Like Hillary is not gonna continue raping our economy! She totally supports his every decission #DEMDebate #DamnDebate RT @4ee74271f2d71ead3db0ce797a13ad93464796687f8fa35d9ddbb4692d...\n",
       "618228e727579659187d37d818202a621bcef41d0e07cd99896c114d8c313970  RT @Novikovquisolge: http://t.co/nQqwTgObhZ Janay Rice @Petrovaenachsil Ukraine ex-minister injured as terror trial protesters clash with riot police TagScanner 5.1.645 Portable http://t.co/8gEBDIU904 texet t 920hd android http://t.co/btE8WVTJJh @ahezkoemokrd Take a tour of NYC on a giant circle made of skateboards. RT @8845477e608f36deabb38df17c0f2e04994bbf5ae149ff74633631decad09997: http://t.co/Vul9lcfko9 Twerking for Jesus @bbf27de8c9f37ffd3a416b6f44e5c5a8ba22896a40593540823657123aeb4f00 ...\n",
       "c6dbc7c7851158af6632107003f9d731731b55d9ef85c9dbd8ab88d69fdb4ac9                                                                                                                                                                                 #IAmOnFire The two greatest FEAR busters are knowledge and action - Unknown #quotes RT @KevinGreen89: A terrible plant explosion happened at the #ColumbianChemicals Co in Centerville, LA RT @marthensasser: #ColumbianChemicals  The information about plant explosion had been received from the witnesses http://t.co/bYSJd0Rc7c"
      ]
     },
     "execution_count": 28,
     "metadata": {},
     "output_type": "execute_result"
    }
   ],
   "source": [
    "df_eng_by_user.sample(5)"
   ]
  },
  {
   "cell_type": "markdown",
   "metadata": {},
   "source": [
    "## Encoding Text as Numbers\n",
    "We're finally ready to turn text into numbers! A couple of common techniques are bag-of-words and tfidf.\n",
    "\n",
    "[Here's](http://datameetsmedia.com/bag-of-words-tf-idf-explained/) a short and straightforward explanation of the difference."
   ]
  },
  {
   "cell_type": "code",
   "execution_count": 29,
   "metadata": {},
   "outputs": [],
   "source": [
    "from sklearn.feature_extraction.text import CountVectorizer, TfidfVectorizer"
   ]
  },
  {
   "cell_type": "markdown",
   "metadata": {},
   "source": [
    "### Bag-of-words"
   ]
  },
  {
   "cell_type": "markdown",
   "metadata": {},
   "source": [
    "In Scikit-learn, the `CountVectorizer` counts the number of words in your document and turns it into a vector."
   ]
  },
  {
   "cell_type": "code",
   "execution_count": 30,
   "metadata": {},
   "outputs": [],
   "source": [
    "count_vect = CountVectorizer(stop_words='english')"
   ]
  },
  {
   "cell_type": "markdown",
   "metadata": {},
   "source": [
    "Let's count up the words in the text for our tweets (might take a couple of minutes):"
   ]
  },
  {
   "cell_type": "code",
   "execution_count": 31,
   "metadata": {},
   "outputs": [
    {
     "name": "stdout",
     "output_type": "stream",
     "text": [
      "CPU times: user 41.8 s, sys: 1.39 s, total: 43.1 s\n",
      "Wall time: 43.2 s\n"
     ]
    }
   ],
   "source": [
    "%%time\n",
    "X_counts = count_vect.fit_transform(df_eng_by_user['tweet_text'])"
   ]
  },
  {
   "cell_type": "code",
   "execution_count": 32,
   "metadata": {},
   "outputs": [
    {
     "data": {
      "text/plain": [
       "<2191x1963375 sparse matrix of type '<class 'numpy.int64'>'\n",
       "\twith 6552422 stored elements in Compressed Sparse Row format>"
      ]
     },
     "execution_count": 32,
     "metadata": {},
     "output_type": "execute_result"
    }
   ],
   "source": [
    "X_counts"
   ]
  },
  {
   "cell_type": "markdown",
   "metadata": {},
   "source": [
    "So for each of the 2191 twitter accounts, the CountVectorizer has counted almost two million unique tokens! Each of these words is a feature or dimension in our dataset. That's far more dimensions than 4, or 64!"
   ]
  },
  {
   "cell_type": "markdown",
   "metadata": {},
   "source": [
    "I'm curious: what are some the most frequent tokens in the dataset?"
   ]
  },
  {
   "cell_type": "code",
   "execution_count": 35,
   "metadata": {},
   "outputs": [
    {
     "data": {
      "image/png": "[encoded data removed]",
      "text/plain": [
       "<Figure size 1080x1440 with 1 Axes>"
      ]
     },
     "metadata": {},
     "output_type": "display_data"
    }
   ],
   "source": [
    "df_counts = (pd.DataFrame\n",
    "             .from_dict(count_vect.vocabulary_, orient='index')\n",
    "             .rename(columns={0: 'index'})\n",
    "             .sort_values(by='index'))\n",
    "df_counts['count'] = np.array(X_counts.sum(axis=0)).flatten()\n",
    "df_counts = df_counts.drop(columns=['index'])\n",
    "fig, ax = plt.subplots(figsize=(15,20))\n",
    "ax.set_title('100 most frequent tokens')\n",
    "df_counts.sort_values('count', ascending=False)[:100].sort_values('count').plot.barh(ax=ax);"
   ]
  },
  {
   "cell_type": "markdown",
   "metadata": {},
   "source": [
    "### Tfidf\n",
    "Short for term frequency, inverse document frequency. Basically, if the term appears too often (the document frequency is too high), it's not that important and we should divide it out."
   ]
  },
  {
   "cell_type": "code",
   "execution_count": 36,
   "metadata": {},
   "outputs": [],
   "source": [
    "tfidf_vect = TfidfVectorizer(stop_words='english')"
   ]
  },
  {
   "cell_type": "markdown",
   "metadata": {},
   "source": [
    "Again, this will take a couple of minutes..."
   ]
  },
  {
   "cell_type": "code",
   "execution_count": 38,
   "metadata": {},
   "outputs": [
    {
     "name": "stdout",
     "output_type": "stream",
     "text": [
      "CPU times: user 46.3 s, sys: 1.45 s, total: 47.7 s\n",
      "Wall time: 47.8 s\n"
     ]
    }
   ],
   "source": [
    "%%time\n",
    "X_tfidfs = tfidf_vect.fit_transform(df_eng_by_user['tweet_text'])"
   ]
  },
  {
   "cell_type": "code",
   "execution_count": 39,
   "metadata": {},
   "outputs": [
    {
     "data": {
      "text/plain": [
       "<2191x1963375 sparse matrix of type '<class 'numpy.float64'>'\n",
       "\twith 6552422 stored elements in Compressed Sparse Row format>"
      ]
     },
     "execution_count": 39,
     "metadata": {},
     "output_type": "execute_result"
    }
   ],
   "source": [
    "X_tfidfs"
   ]
  },
  {
   "cell_type": "code",
   "execution_count": 41,
   "metadata": {},
   "outputs": [
    {
     "data": {
      "image/png": "[encoded data removed]",
      "text/plain": [
       "<Figure size 1080x1440 with 1 Axes>"
      ]
     },
     "metadata": {},
     "output_type": "display_data"
    }
   ],
   "source": [
    "df_tfidfs = (pd.DataFrame\n",
    "             .from_dict(tfidf_vect.vocabulary_, orient='index')\n",
    "             .rename(columns={0: 'index'})\n",
    "             .sort_values(by='index'))\n",
    "df_tfidfs['imp'] = np.array(X_tfidfs.sum(axis=0)).flatten()\n",
    "df_tfidfs = df_tfidfs.drop(columns=['index'])\n",
    "fig, ax = plt.subplots(figsize=(15,20))\n",
    "ax.set_title('100 most \"important\" tokens')\n",
    "df_tfidfs.sort_values('imp', ascending=False)[:100].sort_values('imp').plot.barh(ax=ax);"
   ]
  },
  {
   "cell_type": "markdown",
   "metadata": {},
   "source": [
    "Note: Summing Tfidf values and calling it 'importance' is kind of hand-wavy, but we can gloss over that for now."
   ]
  },
  {
   "cell_type": "markdown",
   "metadata": {},
   "source": [
    "## Dimensional Reduction"
   ]
  },
  {
   "cell_type": "markdown",
   "metadata": {},
   "source": [
    "Remember, it's tough for our clustering algorithms to process high-dimensional data. We can use a dimensionality technique called SVD (very closely related to PCA) to reduce the number of dimensions to something more tractable. The combination of tfidf and SVD is actually a fairly well known algorithm called LSA (latent semantic analysis). \n",
    "\n",
    "Bonus tip: More on LSA [here](https://en.wikipedia.org/wiki/Latent_semantic_analysis)."
   ]
  },
  {
   "cell_type": "code",
   "execution_count": 42,
   "metadata": {},
   "outputs": [],
   "source": [
    "from sklearn.decomposition import TruncatedSVD\n",
    "from sklearn.preprocessing import Normalizer\n",
    "from sklearn.pipeline import make_pipeline"
   ]
  },
  {
   "cell_type": "code",
   "execution_count": 57,
   "metadata": {},
   "outputs": [],
   "source": [
    "svd = TruncatedSVD(n_components=100, random_state=42)\n",
    "normalizer = Normalizer(copy=False)\n",
    "lsa = make_pipeline(svd, normalizer)"
   ]
  },
  {
   "cell_type": "markdown",
   "metadata": {},
   "source": [
    "Even longer...\n",
    "This may seem like a long time, but we're not doing too bad for processing gigabytes of data!"
   ]
  },
  {
   "cell_type": "code",
   "execution_count": 58,
   "metadata": {},
   "outputs": [
    {
     "name": "stdout",
     "output_type": "stream",
     "text": [
      "CPU times: user 2min 27s, sys: 20.1 s, total: 2min 47s\n",
      "Wall time: 1min 31s\n"
     ]
    }
   ],
   "source": [
    "%%time\n",
    "X_lsa = lsa.fit_transform(X_tfidfs)"
   ]
  },
  {
   "cell_type": "code",
   "execution_count": 45,
   "metadata": {},
   "outputs": [
    {
     "data": {
      "text/plain": [
       "(2191, 300)"
      ]
     },
     "execution_count": 45,
     "metadata": {},
     "output_type": "execute_result"
    }
   ],
   "source": [
    "X_lsa.shape"
   ]
  },
  {
   "cell_type": "markdown",
   "metadata": {},
   "source": [
    "Remember the idea of \"explained variance\"? We can ask SVD how much explained variance we retained."
   ]
  },
  {
   "cell_type": "code",
   "execution_count": 56,
   "metadata": {},
   "outputs": [
    {
     "name": "stdout",
     "output_type": "stream",
     "text": [
      "Explained variance of the SVD step: 67%\n"
     ]
    },
    {
     "data": {
      "image/png": "[encoded data removed]",
      "text/plain": [
       "<Figure size 1080x360 with 1 Axes>"
      ]
     },
     "metadata": {},
     "output_type": "display_data"
    }
   ],
   "source": [
    "fig, ax = plt.subplots(figsize=(15,5))\n",
    "df_ev.plot(ax=ax)\n",
    "ax.set_title('Cumulative Explained Variance Plot')\n",
    "ax.set_xlabel('# dimensions')\n",
    "ax.set_ylabel('% explained variance')\n",
    "ax.get_legend().remove()\n",
    "df_ev = pd.DataFrame(data=svd.explained_variance_ratio_.cumsum()*100)\n",
    "explained_variance = svd.explained_variance_ratio_.sum()\n",
    "print(f\"Explained variance of the SVD step: {int(explained_variance * 100)}%\")"
   ]
  },
  {
   "cell_type": "code",
   "execution_count": null,
   "metadata": {},
   "outputs": [],
   "source": []
  },
  {
   "cell_type": "code",
   "execution_count": null,
   "metadata": {},
   "outputs": [],
   "source": []
  },
  {
   "cell_type": "code",
   "execution_count": null,
   "metadata": {},
   "outputs": [],
   "source": []
  },
  {
   "cell_type": "code",
   "execution_count": null,
   "metadata": {},
   "outputs": [],
   "source": []
  },
  {
   "cell_type": "code",
   "execution_count": null,
   "metadata": {},
   "outputs": [],
   "source": []
  },
  {
   "cell_type": "code",
   "execution_count": null,
   "metadata": {},
   "outputs": [],
   "source": []
  },
  {
   "cell_type": "code",
   "execution_count": null,
   "metadata": {},
   "outputs": [],
   "source": [
    "import umap"
   ]
  },
  {
   "cell_type": "code",
   "execution_count": null,
   "metadata": {},
   "outputs": [],
   "source": [
    "%%time\n",
    "\n",
    "# Separate out the features\n",
    "x = X_lsa\n",
    "\n",
    "reducer = umap.UMAP()\n",
    "um = reducer.fit_transform(x)\n",
    "df_um = pd.DataFrame(\n",
    "    data = um,\n",
    "    columns = ['um1', 'um2']\n",
    ")"
   ]
  },
  {
   "cell_type": "code",
   "execution_count": null,
   "metadata": {},
   "outputs": [],
   "source": [
    "df_um.index = df_eng_by_user.index"
   ]
  },
  {
   "cell_type": "code",
   "execution_count": null,
   "metadata": {},
   "outputs": [],
   "source": [
    "df_um"
   ]
  },
  {
   "cell_type": "code",
   "execution_count": null,
   "metadata": {},
   "outputs": [],
   "source": [
    "%matplotlib inline\n",
    "fig, ax = plt.subplots(\n",
    "    nrows=1,\n",
    "    ncols=1,\n",
    "    figsize=(15,15)\n",
    ")\n",
    "sns.scatterplot(data=df_um, y='um2', x='um1', alpha=0.1, ax=ax);"
   ]
  },
  {
   "cell_type": "code",
   "execution_count": null,
   "metadata": {},
   "outputs": [],
   "source": [
    "%%time\n",
    "\n",
    "# Separate out the features\n",
    "x = X_tfidfs\n",
    "\n",
    "reducer = umap.UMAP()\n",
    "um = reducer.fit_transform(x)\n",
    "df_um = pd.DataFrame(\n",
    "    data = um,\n",
    "    columns = ['um1', 'um2']\n",
    ")"
   ]
  },
  {
   "cell_type": "code",
   "execution_count": null,
   "metadata": {},
   "outputs": [],
   "source": [
    "%matplotlib inline\n",
    "fig, ax = plt.subplots(\n",
    "    nrows=1,\n",
    "    ncols=1,\n",
    "    figsize=(15,15)\n",
    ")\n",
    "sns.scatterplot(data=df_um, y='um2', x='um1', alpha=0.1, ax=ax);"
   ]
  },
  {
   "cell_type": "code",
   "execution_count": null,
   "metadata": {},
   "outputs": [],
   "source": [
    "# now we have documents in space -- we can visualize or use clustering algos!"
   ]
  },
  {
   "cell_type": "markdown",
   "metadata": {},
   "source": [
    "## Machine Learning: NLP and Unsupervised learning"
   ]
  },
  {
   "cell_type": "markdown",
   "metadata": {},
   "source": [
    "Supervised learning requires labelled data, but often when we are doing investigations, we don't yet know what we are looking for. Unsupervised learning helps our analysis because we let the numbers take us in the right direction.\n",
    "* K-means\n",
    "* HDBSCAN\n",
    "* IsolationForest"
   ]
  },
  {
   "cell_type": "markdown",
   "metadata": {},
   "source": [
    "## Twitter Dataset"
   ]
  },
  {
   "cell_type": "markdown",
   "metadata": {},
   "source": [
    "## Data Exploration"
   ]
  },
  {
   "cell_type": "markdown",
   "metadata": {},
   "source": [
    "## Natural Language Processing: Turning words to numbers\n",
    "\n",
    "* bag-of-words (discuss bag-of-characters and n-grams)\n",
    "* tfidf\n",
    "* LSI\n",
    "* we won't have time for:\n",
    "* word2vec and other deep-learning based language models"
   ]
  },
  {
   "cell_type": "markdown",
   "metadata": {},
   "source": [
    "## Natural Language Processing: Clustering and outlier detection"
   ]
  },
  {
   "cell_type": "markdown",
   "metadata": {},
   "source": [
    "## Sample Analysis"
   ]
  },
  {
   "cell_type": "code",
   "execution_count": null,
   "metadata": {},
   "outputs": [],
   "source": []
  }
 ],
 "metadata": {
  "kernelspec": {
   "display_name": "Python 3",
   "language": "python",
   "name": "python3"
  },
  "language_info": {
   "codemirror_mode": {
    "name": "ipython",
    "version": 3
   },
   "file_extension": ".py",
   "mimetype": "text/x-python",
   "name": "python",
   "nbconvert_exporter": "python",
   "pygments_lexer": "ipython3",
   "version": "3.6.5"
  }
 },
 "nbformat": 4,
 "nbformat_minor": 2
}
