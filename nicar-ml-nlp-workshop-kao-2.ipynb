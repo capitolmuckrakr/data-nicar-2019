{
 "cells": [
  {
   "cell_type": "markdown",
   "metadata": {},
   "source": [
    "# NICAR Workshop: Machine Learning and NLP\n",
    "\n",
    "By Jeff Kao, ProPublica"
   ]
  },
  {
   "cell_type": "code",
   "execution_count": 1,
   "metadata": {},
   "outputs": [],
   "source": [
    "import pandas as pd\n",
    "import numpy as np\n",
    "import matplotlib.pyplot as plt\n",
    "%matplotlib inline\n",
    "\n",
    "import seaborn as sns"
   ]
  },
  {
   "cell_type": "code",
   "execution_count": null,
   "metadata": {},
   "outputs": [],
   "source": [
    "# !unzip ./data/ira_tweets_csv_hashed.zip -d ./data/"
   ]
  },
  {
   "cell_type": "code",
   "execution_count": null,
   "metadata": {},
   "outputs": [],
   "source": [
    "# !unzip ./data/ira_users_csv_hashed.zip -d ./data/"
   ]
  },
  {
   "cell_type": "code",
   "execution_count": 2,
   "metadata": {},
   "outputs": [
    {
     "name": "stderr",
     "output_type": "stream",
     "text": [
      "<string>:2: DtypeWarning: Columns (30) have mixed types. Specify dtype option on import or set low_memory=False.\n"
     ]
    },
    {
     "name": "stdout",
     "output_type": "stream",
     "text": [
      "CPU times: user 1min 23s, sys: 5.73 s, total: 1min 29s\n",
      "Wall time: 1min 27s\n"
     ]
    }
   ],
   "source": [
    "%%time\n",
    "df_all = pd.read_csv('./data/ira_tweets_csv_hashed.csv')"
   ]
  },
  {
   "cell_type": "code",
   "execution_count": 3,
   "metadata": {},
   "outputs": [
    {
     "data": {
      "text/plain": [
       "Index(['tweetid', 'userid', 'user_display_name', 'user_screen_name',\n",
       "       'user_reported_location', 'user_profile_description',\n",
       "       'user_profile_url', 'follower_count', 'following_count',\n",
       "       'account_creation_date', 'account_language', 'tweet_language',\n",
       "       'tweet_text', 'tweet_time', 'tweet_client_name', 'in_reply_to_tweetid',\n",
       "       'in_reply_to_userid', 'quoted_tweet_tweetid', 'is_retweet',\n",
       "       'retweet_userid', 'retweet_tweetid', 'latitude', 'longitude',\n",
       "       'quote_count', 'reply_count', 'like_count', 'retweet_count', 'hashtags',\n",
       "       'urls', 'user_mentions', 'poll_choices'],\n",
       "      dtype='object')"
      ]
     },
     "execution_count": 3,
     "metadata": {},
     "output_type": "execute_result"
    }
   ],
   "source": [
    "df_all.columns"
   ]
  },
  {
   "cell_type": "code",
   "execution_count": 4,
   "metadata": {},
   "outputs": [
    {
     "data": {
      "text/plain": [
       "ru     4853185\n",
       "en     2997181\n",
       "und     229392\n",
       "de       98460\n",
       "uk       82237\n",
       "bg       54690\n",
       "ar       37241\n",
       "it       20136\n",
       "fr       12241\n",
       "es       11922\n",
       "in        9523\n",
       "sr        8045\n",
       "tl        6618\n",
       "ht        6170\n",
       "et        5847\n",
       "tr        3832\n",
       "sk        3343\n",
       "nl        3151\n",
       "da        2987\n",
       "ro        2980\n",
       "pt        2698\n",
       "ja        2653\n",
       "cy        2591\n",
       "sl        2307\n",
       "pl        1804\n",
       "sv        1759\n",
       "fi        1611\n",
       "no        1500\n",
       "lt        1340\n",
       "cs        1037\n",
       "bs         615\n",
       "lv         505\n",
       "hu         499\n",
       "id         466\n",
       "hi         307\n",
       "hr         297\n",
       "ko         288\n",
       "vi         283\n",
       "is         268\n",
       "eu         223\n",
       "iw          56\n",
       "zh          56\n",
       "th          40\n",
       "fa          37\n",
       "el          35\n",
       "hy          23\n",
       "ur          17\n",
       "ne           7\n",
       "si           5\n",
       "ta           4\n",
       "km           3\n",
       "bn           3\n",
       "mr           2\n",
       "ml           2\n",
       "he           2\n",
       "ps           1\n",
       "ug           1\n",
       "iu           1\n",
       "Name: tweet_language, dtype: int64"
      ]
     },
     "execution_count": 4,
     "metadata": {},
     "output_type": "execute_result"
    }
   ],
   "source": [
    "df_all['tweet_language'].value_counts()"
   ]
  },
  {
   "cell_type": "code",
   "execution_count": 5,
   "metadata": {},
   "outputs": [],
   "source": [
    "df = df_all[df_all['tweet_language'] == 'en']"
   ]
  },
  {
   "cell_type": "code",
   "execution_count": 9,
   "metadata": {},
   "outputs": [
    {
     "data": {
      "text/plain": [
       "3077"
      ]
     },
     "execution_count": 9,
     "metadata": {},
     "output_type": "execute_result"
    }
   ],
   "source": [
    "len(df['userid'].unique())"
   ]
  },
  {
   "cell_type": "code",
   "execution_count": null,
   "metadata": {},
   "outputs": [],
   "source": [
    "df.sample(10)[['userid','tweet_text']]"
   ]
  },
  {
   "cell_type": "markdown",
   "metadata": {},
   "source": [
    "## Machine Learning: NLP and Unsupervised learning"
   ]
  },
  {
   "cell_type": "markdown",
   "metadata": {},
   "source": [
    "Supervised learning requires labelled data, but often when we are doing investigations, we don't yet know what we are looking for. Unsupervised learning helps our analysis because we let the numbers take us in the right direction.\n",
    "* K-means\n",
    "* HDBSCAN\n",
    "* IsolationForest"
   ]
  },
  {
   "cell_type": "markdown",
   "metadata": {},
   "source": [
    "## Twitter Dataset"
   ]
  },
  {
   "cell_type": "markdown",
   "metadata": {},
   "source": [
    "## Data Exploration"
   ]
  },
  {
   "cell_type": "markdown",
   "metadata": {},
   "source": [
    "## Natural Language Processing: Turning words to numbers\n",
    "\n",
    "* bag-of-words (discuss bag-of-characters and n-grams)\n",
    "* tfidf\n",
    "* LSI\n",
    "* word2vec and other deep-learning based language models"
   ]
  },
  {
   "cell_type": "markdown",
   "metadata": {},
   "source": [
    "## Natural Language Processing: Clustering and outlier detection"
   ]
  },
  {
   "cell_type": "markdown",
   "metadata": {},
   "source": [
    "## Sample Analysis"
   ]
  },
  {
   "cell_type": "code",
   "execution_count": null,
   "metadata": {},
   "outputs": [],
   "source": []
  }
 ],
 "metadata": {
  "kernelspec": {
   "display_name": "Python 3",
   "language": "python",
   "name": "python3"
  },
  "language_info": {
   "codemirror_mode": {
    "name": "ipython",
    "version": 3
   },
   "file_extension": ".py",
   "mimetype": "text/x-python",
   "name": "python",
   "nbconvert_exporter": "python",
   "pygments_lexer": "ipython3",
   "version": "3.6.5"
  }
 },
 "nbformat": 4,
 "nbformat_minor": 2
}
